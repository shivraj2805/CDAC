{
  "nbformat": 4,
  "nbformat_minor": 0,
  "metadata": {
    "colab": {
      "provenance": []
    },
    "kernelspec": {
      "name": "python3",
      "display_name": "Python 3"
    },
    "language_info": {
      "name": "python"
    }
  },
  "cells": [
    {
      "cell_type": "code",
      "execution_count": 1,
      "metadata": {
        "id": "Shu3BCiHfQHL"
      },
      "outputs": [],
      "source": [
        "import pandas as pd\n",
        "from sklearn.model_selection import train_test_split\n",
        "from sklearn.preprocessing import OneHotEncoder, StandardScaler\n",
        "from sklearn.compose import ColumnTransformer\n",
        "from sklearn.pipeline import Pipeline\n",
        "from sklearn.ensemble import RandomForestRegressor\n",
        "from sklearn.metrics import mean_squared_error, r2_score\n",
        "\n"
      ]
    },
    {
      "cell_type": "code",
      "source": [
        "# Load the dataset from the provided CSV file\n",
        "data = pd.read_csv('Housing.csv')\n",
        "\n",
        "# Display the first few rows of the dataset to understand its structure\n",
        "print(data.head())\n",
        "\n"
      ],
      "metadata": {
        "colab": {
          "base_uri": "https://localhost:8080/"
        },
        "id": "b75VW9PAfWlh",
        "outputId": "a21dffa4-a51d-4d39-9c0f-b0d90733c39c"
      },
      "execution_count": 2,
      "outputs": [
        {
          "output_type": "stream",
          "name": "stdout",
          "text": [
            "      price  area  bedrooms  bathrooms  stories mainroad guestroom basement  \\\n",
            "0  13300000  7420         4          2        3      yes        no       no   \n",
            "1  12250000  8960         4          4        4      yes        no       no   \n",
            "2  12250000  9960         3          2        2      yes        no      yes   \n",
            "3  12215000  7500         4          2        2      yes        no      yes   \n",
            "4  11410000  7420         4          1        2      yes       yes      yes   \n",
            "\n",
            "  hotwaterheating airconditioning  parking prefarea furnishingstatus  \n",
            "0              no             yes        2      yes        furnished  \n",
            "1              no             yes        3       no        furnished  \n",
            "2              no              no        2      yes   semi-furnished  \n",
            "3              no             yes        3      yes        furnished  \n",
            "4              no             yes        2       no        furnished  \n"
          ]
        }
      ]
    },
    {
      "cell_type": "code",
      "source": [
        "# Define features (X) and target variable (y)\n",
        "X = data.drop('price', axis=1)\n",
        "y = data['price']\n",
        "\n",
        "# Identify categorical and numerical columns\n",
        "categorical_cols = ['mainroad', 'guestroom', 'basement', 'hotwaterheating', 'airconditioning', 'prefarea', 'furnishingstatus']\n",
        "numerical_cols = ['area', 'bedrooms', 'bathrooms', 'stories', 'parking']\n",
        "\n"
      ],
      "metadata": {
        "id": "BOJhW5TJfWi2"
      },
      "execution_count": 3,
      "outputs": []
    },
    {
      "cell_type": "code",
      "source": [
        "# Preprocessing for numerical data: scaling\n",
        "numerical_transformer = StandardScaler()\n",
        "\n",
        "# Preprocessing for categorical data: one-hot encoding\n",
        "categorical_transformer = OneHotEncoder(drop='first')\n",
        "\n"
      ],
      "metadata": {
        "id": "Glm4bQfCfWgc"
      },
      "execution_count": 4,
      "outputs": []
    },
    {
      "cell_type": "code",
      "source": [
        "# Create the column transformer to apply transformations\n",
        "preprocessor = ColumnTransformer(\n",
        "    transformers=[\n",
        "        ('num', numerical_transformer, numerical_cols),\n",
        "        ('cat', categorical_transformer, categorical_cols)\n",
        "    ])\n",
        "\n",
        "# Create a pipeline that first transforms the data then fits a model\n",
        "model_pipeline = Pipeline(steps=[\n",
        "    ('preprocessor', preprocessor),\n",
        "    ('regressor', RandomForestRegressor(random_state=42))\n",
        "])\n",
        "\n"
      ],
      "metadata": {
        "id": "D3IKLIWDfWd0"
      },
      "execution_count": 5,
      "outputs": []
    },
    {
      "cell_type": "code",
      "source": [
        "# Split the dataset into training and testing sets (80% train, 20% test)\n",
        "X_train, X_test, y_train, y_test = train_test_split(X, y, test_size=0.2, random_state=42)\n",
        "\n",
        "# Fit the model on the training data\n",
        "model_pipeline.fit(X_train, y_train)\n",
        "\n",
        "# Make predictions on the test set\n",
        "y_pred = model_pipeline.predict(X_test)\n",
        "\n"
      ],
      "metadata": {
        "id": "824ikxDEfWbk"
      },
      "execution_count": 6,
      "outputs": []
    },
    {
      "cell_type": "code",
      "source": [
        "# Evaluate the model performance using Mean Squared Error and R^2 Score\n",
        "mse = mean_squared_error(y_test, y_pred)\n",
        "r2 = r2_score(y_test, y_pred)\n",
        "\n",
        "print(f'Mean Squared Error: {mse}')\n",
        "print(f'R^2 Score: {r2}')"
      ],
      "metadata": {
        "colab": {
          "base_uri": "https://localhost:8080/"
        },
        "id": "6hb5bPQ6fWY9",
        "outputId": "22a379b1-063c-4b7e-a020-5cedcf691418"
      },
      "execution_count": 7,
      "outputs": [
        {
          "output_type": "stream",
          "name": "stdout",
          "text": [
            "Mean Squared Error: 1959323004717.2698\n",
            "R^2 Score: 0.6123660550314123\n"
          ]
        }
      ]
    },
    {
      "cell_type": "code",
      "source": [
        "\n",
        "# Function to predict house price based on input features\n",
        "def predict_house_price(model, input_data):\n",
        "    # Convert input data to DataFrame\n",
        "    input_df = pd.DataFrame([input_data])\n",
        "\n",
        "    # Make prediction using the trained model\n",
        "    predicted_price = model.predict(input_df)\n",
        "\n",
        "    return predicted_price[0]\n",
        "\n",
        "# Example of new data for prediction\n",
        "new_house_data = {\n",
        "    'area': 7500,\n",
        "    'bedrooms': 4,\n",
        "    'bathrooms': 3,\n",
        "    'stories': 2,\n",
        "    'mainroad': 'yes',\n",
        "    'guestroom': 'no',\n",
        "    'basement': 'no',\n",
        "    'hotwaterheating': 'no',\n",
        "    'airconditioning': 'yes',\n",
        "    'parking': 2,\n",
        "    'prefarea': 'yes',\n",
        "    'furnishingstatus': 'furnished'\n",
        "}\n",
        "\n",
        "# Predicting the price of the new house\n",
        "predicted_price = predict_house_price(model_pipeline, new_house_data)\n",
        "\n",
        "print(f'The predicted price of the house is: {predicted_price}')"
      ],
      "metadata": {
        "colab": {
          "base_uri": "https://localhost:8080/"
        },
        "id": "l5i2YRxFfWWe",
        "outputId": "ed0b9965-2896-4ea0-9fe6-0207779eeefe"
      },
      "execution_count": 8,
      "outputs": [
        {
          "output_type": "stream",
          "name": "stdout",
          "text": [
            "The predicted price of the house is: 10357719.4\n"
          ]
        }
      ]
    }
  ]
}